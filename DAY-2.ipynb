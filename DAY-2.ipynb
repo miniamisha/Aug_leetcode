{
 "cells": [
  {
   "cell_type": "code",
   "execution_count": 67,
   "metadata": {},
   "outputs": [],
   "source": [
    "class MyHashSet:\n",
    "\n",
    "    def __init__(self):\n",
    "        \"\"\"\n",
    "        Initialize your data structure here.\n",
    "        \"\"\"\n",
    "        self.hashset=[]\n",
    "        \n",
    "\n",
    "    def add(self, key: int) -> None:\n",
    "        return self.hashset.append(key)\n",
    "\n",
    "    def remove(self, key: int) -> None:\n",
    "        i=0\n",
    "        length=len(self.hashset)\n",
    "        while(i<length):\n",
    "            if self.hashset[i]==key:\n",
    "                length=length-1\n",
    "                return self.hashset.remove(self.hashset[i])\n",
    "        i=i+1\n",
    "    def contains(self, key: int) -> bool:\n",
    "        \"\"\"\n",
    "        Returns true if this set contains the specified element\n",
    "        \"\"\"\n",
    "        if key in self.hashset:\n",
    "            return True\n",
    "   \n",
    "        \n",
    "\n",
    "\n",
    "# Your MyHashSet object will be instantiated and called as such:\n",
    "obj = MyHashSet()\n",
    "obj.add(7)\n",
    "obj.add(7)\n",
    "obj.remove(7)\n",
    "obj.contains(7)\n",
    "obj.contains(0)"
   ]
  },
  {
   "cell_type": "code",
   "execution_count": null,
   "metadata": {},
   "outputs": [],
   "source": []
  },
  {
   "cell_type": "code",
   "execution_count": 69,
   "metadata": {},
   "outputs": [],
   "source": [
    "class MyHashSet:\n",
    "\n",
    "    def __init__(self):\n",
    "        \"\"\"\n",
    "        Initialize your data structure here.\n",
    "        \"\"\"\n",
    "        self.hashset=[]\n",
    "        \n",
    "\n",
    "    def add(self, key: int) -> None:\n",
    "        return self.hashset.append(key)\n",
    "\n",
    "    def remove(self, key: int) -> None:\n",
    "        i=0\n",
    "        length=len(self.hashset)\n",
    "        while(i<length):\n",
    "            if self.hashset[i]==key:\n",
    "                self.hashset.remove(self.hashset[i])\n",
    "                length=length-1\n",
    "                continue\n",
    "            i=i+1\n",
    "        return self.hashset\n",
    "    def contains(self, key: int) -> bool:\n",
    "        \"\"\"\n",
    "        Returns true if this set contains the specified element\n",
    "        \"\"\"\n",
    "        if key in self.hashset:\n",
    "            return True\n",
    "        \n",
    "obj = MyHashSet()\n",
    "obj.add(7)\n",
    "obj.add(7)\n",
    "obj.remove(7)\n",
    "obj.contains(7)\n",
    "obj.contains(0)"
   ]
  },
  {
   "cell_type": "code",
   "execution_count": null,
   "metadata": {},
   "outputs": [],
   "source": []
  }
 ],
 "metadata": {
  "kernelspec": {
   "display_name": "Python 3",
   "language": "python",
   "name": "python3"
  },
  "language_info": {
   "codemirror_mode": {
    "name": "ipython",
    "version": 3
   },
   "file_extension": ".py",
   "mimetype": "text/x-python",
   "name": "python",
   "nbconvert_exporter": "python",
   "pygments_lexer": "ipython3",
   "version": "3.7.4"
  }
 },
 "nbformat": 4,
 "nbformat_minor": 2
}
